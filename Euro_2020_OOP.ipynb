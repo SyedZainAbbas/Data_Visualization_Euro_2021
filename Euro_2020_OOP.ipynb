{
 "cells": [
  {
   "cell_type": "markdown",
   "id": "decc6c0d",
   "metadata": {},
   "source": [
    "# Web Scrapping Project: Euro 2020 Stats"
   ]
  },
  {
   "cell_type": "markdown",
   "id": "8a1dde1a",
   "metadata": {},
   "source": [
    "## Import the required libraries"
   ]
  },
  {
   "cell_type": "code",
   "execution_count": null,
   "id": "6668b466",
   "metadata": {},
   "outputs": [],
   "source": [
    "import requests\n",
    "from bs4 import BeautifulSoup as bs\n",
    "import pandas as pd\n",
    "from matplotlib import pyplot as plt, cm, colors\n",
    "import squarify\n",
    "import time\n",
    "import import_ipynb\n",
    "import re\n",
    "from collections import Counter\n",
    "from dataclasses import dataclass\n",
    "from typing import Optional, List\n",
    "from Euro_2020 import urls"
   ]
  },
  {
   "cell_type": "markdown",
   "id": "c8e0d001",
   "metadata": {},
   "source": [
    "## Results Class"
   ]
  },
  {
   "cell_type": "code",
   "execution_count": null,
   "id": "e13a402a",
   "metadata": {},
   "outputs": [],
   "source": [
    "@dataclass\n",
    "class Results:\n",
    "    home_team: str\n",
    "    away_team: str\n",
    "    home_goals: int\n",
    "    away_goals: int\n",
    "    pen_winner: Optional[str] = None\n",
    "    pen_score: Optional[str] = None\n",
    "\n",
    "    def is_draw(self):\n",
    "        game_draw = self.home_goals == self.away_goals\n",
    "        if self.pen_winner is not None: return False\n",
    "        return game_draw\n",
    "    \n",
    "    def winner(self):\n",
    "        if not self.is_draw():\n",
    "            if self.home_goals > self.away_goals: return self.home_team\n",
    "            elif self.away_goals > self.home_goals: return self.away_team\n",
    "            else: return self.pen_winner\n",
    "    \n",
    "    def loser(self):\n",
    "        if not self.is_draw():\n",
    "            return self.away_team if self.winner() == self.home_team else self.home_team\n",
    "    \n",
    "    def goal_scored(self):\n",
    "        return self.home_goals + self.away_goals\n",
    "    \n",
    "    def goal_diff(self):\n",
    "        return abs(self.home_goals - self.away_goals)\n",
    "    \n",
    "    def __contains__(self,team):\n",
    "        return team in [self.home_team, self.away_team]\n",
    "    \n",
    "    def __str__(self):\n",
    "        return f'{self.home_team} {self.home_goals} - {self.away_goals} {self.away_team}'\n"
   ]
  },
  {
   "cell_type": "code",
   "execution_count": null,
   "id": "aebcfc5c",
   "metadata": {},
   "outputs": [],
   "source": [
    "# The list results will contain all match objects.\n",
    "def result_class(urls):\n",
    "    results = []\n",
    "    KO_START_DATE = pd.Timestamp('2021-06-28').date()\n",
    "    for url in urls:\n",
    "        r = requests.get(url)\n",
    "        match_date = pd.Timestamp(url.split('/')[-1]).date()\n",
    "        time.sleep(1)\n",
    "        soup = bs(r.text, 'html.parser')\n",
    "        # THIS WILL GET ALL THE FIXTURES ON THE PAGE\n",
    "        matches = soup.find_all('article', class_= 'sp-c-fixture')\n",
    "        for match in matches:\n",
    "            home_team = match.select_one('.sp-c-fixture__team-name--home .sp-c-fixture__team-name-trunc').text\n",
    "            away_team = match.select_one('.sp-c-fixture__team-name--away .sp-c-fixture__team-name-trunc').text\n",
    "            home_goals = match.select_one('.sp-c-fixture__number--home').text\n",
    "            away_goals = match.select_one('.sp-c-fixture__number--away').text\n",
    "            if match_date >= KO_START_DATE:\n",
    "                pens =  match.select_one('.sp-c-fixture__win-message') \n",
    "                if pens is not None:\n",
    "                    pen_win = pens.text.split(' ')[0]\n",
    "                    pen_score = re.search('\\d+-\\d+', pens.text)\n",
    "                    results.append(Results(\n",
    "                        home_team,away_team,\n",
    "                        int(home_goals),int(away_goals),\n",
    "                        pen_win,pen_score.group())\n",
    "                    )\n",
    "                    continue\n",
    "            results.append(Results(\n",
    "                home_team,away_team,\n",
    "                int(home_goals),int(away_goals))\n",
    "            )\n",
    "    return results\n",
    "\n",
    "results = result_class(urls)"
   ]
  },
  {
   "cell_type": "code",
   "execution_count": null,
   "id": "a45cb254",
   "metadata": {},
   "outputs": [],
   "source": [
    "# The following snipet can be used to extract some useful information of the tournament\n",
    "winners = [team.winner() for team in results if team.winner()]\n",
    "losers = [team.loser() for team in results if team.loser()]\n",
    "most_wins = Counter(winners).most_common()\n",
    "most_losses = Counter(losers).most_common()\n",
    "draws = [match for match in results if match.is_draw()]\n",
    "matches_pens = [match for match in results if match.pen_winner]\n",
    "total_goals = sum([goals.goal_scored() for goals in results])  \n",
    "all_goal_diff = [gd.goal_diff() for gd in results]\n",
    "biggest_victory = max(all_goal_diff)\n",
    "biggest_margin_game = [str(game) for game in results if game.goal_diff() == biggest_victory]"
   ]
  },
  {
   "cell_type": "markdown",
   "id": "682d9ce1",
   "metadata": {},
   "source": [
    "## Creating a table using pandas library"
   ]
  },
  {
   "cell_type": "code",
   "execution_count": null,
   "id": "ec494855",
   "metadata": {},
   "outputs": [],
   "source": [
    "# First we have to create a header for the table.\n",
    "headers_matches = ['Home Team','Away Team','Goals (H)', 'Goals (A)', 'Winner', 'Penalties'] \n",
    "df_matches = pd.DataFrame(results, index = list(range(1,52)))\n",
    "df_matches.set_axis(headers_matches, axis = 1, inplace = True)\n",
    "df_matches = df_matches.iloc[:,[0,2,1,3,4,5]]\n",
    "winner_column = [team.winner() for team in results]\n",
    "df_matches['Winner'] = winner_column"
   ]
  },
  {
   "cell_type": "code",
   "execution_count": null,
   "id": "58bc01d5",
   "metadata": {},
   "outputs": [],
   "source": [
    "# Group Stage\n",
    "df_group_stage= df_matches.iloc[:36,:5] "
   ]
  },
  {
   "cell_type": "code",
   "execution_count": null,
   "id": "c4ba0b2f",
   "metadata": {},
   "outputs": [],
   "source": [
    "# Knockout Stage\n",
    "df_ko_stage= df_matches.iloc[37:,:5] \n",
    "df_ko_stage['#'] = range(1,len(df_ko_stage['Winner'])+1) \n",
    "df_ko_stage.set_index('#', inplace = True)"
   ]
  },
  {
   "cell_type": "markdown",
   "id": "d9adced7",
   "metadata": {},
   "source": [
    "## Creating graphs using Matplotlib library"
   ]
  },
  {
   "cell_type": "code",
   "execution_count": null,
   "id": "5f7ce2bf",
   "metadata": {},
   "outputs": [],
   "source": [
    "font_title = {'family': 'Comic Sans MS', 'color':'#030300', 'size': 22, 'weight': 'bold'}\n",
    "font_legend = {'family': 'Comic Sans MS', 'color':'#030300', 'size': 14, 'weight': 'bold'}\n",
    "font_axes = {'family': 'Comic Sans MS', 'color':'#131312', 'size': 14}\n",
    "total_matches, matches_drawn, matches_with_pens = len(results), len(draws), len(matches_pens)   \n",
    "matches_with_result = total_matches - matches_drawn\n",
    "match_stat = [total_matches, matches_with_result, matches_drawn, matches_with_pens] \n",
    "labels = ['Total Matches Played', 'Matches with Outcome', 'Matches Tied', 'Matches went to Penalties ']\n",
    "\n",
    "def pie_chart(\n",
    "    x,labels, font_legend, font_title, title, theme, explode = (0,0,0.25,0.5), pctdist = 0.7):\n",
    "    # This function will generate pie chart\n",
    "    plt.style.use(theme)\n",
    "    plt.pie(x, labels = labels, autopct = '%.f %%',\n",
    "            explode = explode, pctdistance = pctdist, textprops = font_legend)\n",
    "    plt.title(title, fontdict = font_title, loc = 'right')\n",
    "    plt.show\n"
   ]
  },
  {
   "cell_type": "code",
   "execution_count": null,
   "id": "0d171e9a",
   "metadata": {},
   "outputs": [],
   "source": [
    "pie_chart(match_stat,labels, font_legend, font_title, title = 'BREAKDOWN OF MATCHES',\n",
    "          theme = 'ggplot', pctdist = 0.8)"
   ]
  },
  {
   "cell_type": "markdown",
   "id": "2d985c1c",
   "metadata": {},
   "source": [
    "## BAR CHART"
   ]
  },
  {
   "cell_type": "code",
   "execution_count": null,
   "id": "702761fc",
   "metadata": {},
   "outputs": [],
   "source": [
    "grp_stage, ko_stage = len(df_group_stage), len(df_ko_stage)       \n",
    "labels = ['Group Stage Games', 'Knockout Games' ]\n",
    "plt.style.use('ggplot')\n",
    "plt.bar(['a',labels[0]], [0,grp_stage], width = 0.25)\n",
    "plt.bar([labels[1],'l'] ,[ko_stage,0], width = 0.25)\n",
    "plt.title('Group Stage Vs Knock Out Games', fontdict = font_title)\n",
    "plt.ylabel('Number of Matches', fontdict = font_axes)\n",
    "plt.xticks([])\n",
    "plt.legend(labels)\n",
    "plt.show()"
   ]
  },
  {
   "cell_type": "markdown",
   "id": "d2e38542",
   "metadata": {},
   "source": [
    "## Team Statistics\n",
    "\n",
    "To get insights of how well a particular team performed in the competiton, I created a dataclass for team stats"
   ]
  },
  {
   "cell_type": "code",
   "execution_count": null,
   "id": "4145bfe8",
   "metadata": {},
   "outputs": [],
   "source": [
    "@dataclass\n",
    "class TeamStats:\n",
    "    name: str\n",
    "    games_played: int = 0\n",
    "    games_won: int = 0\n",
    "    games_lost: int = 0\n",
    "    games_drawn: int = 0\n",
    "    goals_for: int = 0\n",
    "    goals_against: int = 0\n",
    "    pen_games:int = 0\n",
    "        \n",
    "    @property\n",
    "    def goal_diff(self):\n",
    "        return self.goals_for - self.goals_against"
   ]
  },
  {
   "cell_type": "code",
   "execution_count": null,
   "id": "eb0ad687",
   "metadata": {},
   "outputs": [],
   "source": [
    "def parse_team_stats(results: List[Results]) -> List[TeamStats]:\n",
    "    teams = set([team.home_team for team in results] + [team.away_team for team in results])\n",
    "    teams_ob = [TeamStats(team) for team in teams]\n",
    "    \n",
    "    for result in results:\n",
    "        home, away = result.home_team, result.away_team\n",
    "        # HOME TEAM STATS\n",
    "        h_ts = next(team for team in teams_ob if team.name == home)\n",
    "        h_ts.goals_for += result.home_goals\n",
    "        h_ts.goals_against += result.away_goals\n",
    "        h_ts.games_played +=1\n",
    "        \n",
    "        # AWAY TEAM STATS\n",
    "        a_ts = next(team for team in teams_ob if team.name == away)\n",
    "        a_ts.goals_for += result.away_goals\n",
    "        a_ts.goals_against += result.home_goals\n",
    "        a_ts.games_played +=1\n",
    "        \n",
    "    # UPDATE DATA OF GAMES WON, LOST, DRAWN, AND GONE TO PENALTIES\n",
    "        if result.winner() == home:\n",
    "            h_ts.games_won += 1\n",
    "            a_ts.games_lost += 1\n",
    "        elif result.winner() == away:\n",
    "            h_ts.games_lost += 1\n",
    "            a_ts.games_won += 1   \n",
    "        else:\n",
    "            h_ts.games_drawn += 1\n",
    "            a_ts.games_drawn += 1\n",
    "        \n",
    "        if result.pen_winner is not None: \n",
    "            h_ts.pen_games += 1\n",
    "            a_ts.pen_games += 1\n",
    "    \n",
    "    return teams_ob\n",
    "teams = parse_team_stats(results)"
   ]
  },
  {
   "cell_type": "code",
   "execution_count": null,
   "id": "01bf6b14",
   "metadata": {},
   "outputs": [],
   "source": [
    "headers = ['Team','GP','W','L','D','GF','GA','PG']\n",
    "index = list(range(1,25))\n",
    "df = pd.DataFrame(teams, index = index)\n",
    "df.set_axis(headers,axis = 1, inplace = True)\n",
    "df.sort_values(by=['W','GP','L','D'], ascending = [False, False,True, True], inplace = True)\n",
    "df['#'] = range(1,25)\n",
    "df.set_index(['#'], inplace = True)\n",
    "df.loc[17,'Team'], df.loc[23,'Team'] = 'Russia', 'N. Macedonia'"
   ]
  },
  {
   "cell_type": "code",
   "execution_count": null,
   "id": "75e4f5d8",
   "metadata": {},
   "outputs": [],
   "source": [
    "plt.figure(figsize=(10,6))\n",
    "plt.barh(df['Team'], df['W'], align ='center')\n",
    "plt.yticks(df['Team'])\n",
    "plt.gca().invert_yaxis()\n",
    "plt.title('Number of Wins by Teams in UEFA Euro 2020', fontdict = font_title)\n",
    "plt.show()"
   ]
  },
  {
   "cell_type": "code",
   "execution_count": null,
   "id": "ce1d7ad8",
   "metadata": {},
   "outputs": [],
   "source": [
    "plt.figure(figsize=(10,6))\n",
    "font_legend_u = {'family': 'Comic Sans MS', 'color':'#030300', 'size': 15, 'weight': 'bold'}\n",
    "df_u = df[df['W'] !=0]\n",
    "norm = colors.Normalize(vmin = min(df_u['GF']), vmax = max(df_u['GF']))\n",
    "color = [cm.Reds(norm(i)) for i in df_u['GF']]\n",
    "squarify.plot(sizes = df_u['GF'], label = df_u['Team'], alpha =0.7, pad = 1, color = color,\n",
    "              text_kwargs = font_legend_u)\n",
    "plt.title('Most Goals Scored by Teams in UEFA Euro 2020', fontdict = font_title)\n",
    "plt.axis('off')\n",
    "plt.show()"
   ]
  }
 ],
 "metadata": {
  "kernelspec": {
   "display_name": "venvkernel",
   "language": "python",
   "name": "venvkernel"
  },
  "language_info": {
   "codemirror_mode": {
    "name": "ipython",
    "version": 3
   },
   "file_extension": ".py",
   "mimetype": "text/x-python",
   "name": "python",
   "nbconvert_exporter": "python",
   "pygments_lexer": "ipython3",
   "version": "3.10.4"
  }
 },
 "nbformat": 4,
 "nbformat_minor": 5
}
