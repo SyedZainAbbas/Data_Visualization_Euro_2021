{
 "cells": [
  {
   "cell_type": "markdown",
   "id": "decc6c0d",
   "metadata": {},
   "source": [
    "# Web Scrapping Project: Euro 2020 Stats"
   ]
  },
  {
   "cell_type": "markdown",
   "id": "43bc80b3",
   "metadata": {},
   "source": [
    "## Import required libraries"
   ]
  },
  {
   "cell_type": "code",
   "execution_count": null,
   "id": "6668b466",
   "metadata": {},
   "outputs": [],
   "source": [
    "import requests\n",
    "from bs4 import BeautifulSoup as bs\n",
    "import pandas as pd\n",
    "import time\n",
    "from typing import List"
   ]
  },
  {
   "cell_type": "markdown",
   "id": "d2aae454",
   "metadata": {},
   "source": [
    "## URLs for data extraction"
   ]
  },
  {
   "cell_type": "code",
   "execution_count": null,
   "id": "1ad1498d",
   "metadata": {},
   "outputs": [],
   "source": [
    "def gen_urls(s_dte, e_dte):\n",
    "    base_url = 'https://www.bbc.com/sport/football/european-championship/scores-fixtures/'\n",
    "    match_dates = pd.date_range(s_dte, e_dte)\n",
    "    return [base_url+str(match_date.date()) for match_date in match_dates]"
   ]
  },
  {
   "cell_type": "code",
   "execution_count": null,
   "id": "c192a356",
   "metadata": {},
   "outputs": [],
   "source": [
    "def show_match_result(home_team,home_goals,away_team,away_goals, pens = None):\n",
    "    \"\"\"\n",
    "    This function will take the names of both home and away teams as well as goal scored by them. \n",
    "    In the knock out stages some matches went to penalties so to cover all the statistics of the tournament\n",
    "    a default argument 'pens' is also created. If the game did not go to penalties, it's value will remain\\\n",
    "    None, otherwise the penalty tag will be passed to this argument.\n",
    "    \n",
    "    \"\"\"\n",
    "    if pens is not None: return f'{home_team} {home_goals} - {away_goals} {away_team} ({pens})'\n",
    "    return f'{home_team} {home_goals} - {away_goals} {away_team}'"
   ]
  },
  {
   "cell_type": "code",
   "execution_count": null,
   "id": "12ff5b06",
   "metadata": {},
   "outputs": [],
   "source": [
    "def all_results(urls):\n",
    "    # results will contain the reuslts from all the football matches.\n",
    "    results = []\n",
    "    # Starting date of the knock out matches\n",
    "    KO_START_DATE = pd.Timestamp('2021-06-28').date()\n",
    "    for url in urls:\n",
    "        r = requests.get(url)\n",
    "        match_date = pd.Timestamp(url.split('/')[-1]).date()\n",
    "        time.sleep(1)\n",
    "        soup = bs(r.text, 'html.parser')\n",
    "        # The following line will extract all the matches' data from the requested page\n",
    "        matches = soup.find_all('article', class_= 'sp-c-fixture')\n",
    "        for match in matches:\n",
    "            home_team = match.select_one('.sp-c-fixture__team-name--home .sp-c-fixture__team-name-trunc').text\n",
    "            away_team = match.select_one('.sp-c-fixture__team-name--away .sp-c-fixture__team-name-trunc').text\n",
    "            home_goals = match.select_one('.sp-c-fixture__number--home').text\n",
    "            away_goals = match.select_one('.sp-c-fixture__number--away').text\n",
    "            # If the match took place after the start of the knock out matches, our code will look for penalty\n",
    "            # stats\n",
    "            if match_date >= KO_START_DATE:\n",
    "                pens =  match.select_one('.sp-c-fixture__win-message') \n",
    "                if pens is not None:\n",
    "                    results.append(show_match_result(home_team,home_goals,away_team,away_goals,pens.text))\n",
    "                    continue\n",
    "            results.append(show_match_result(home_team,home_goals,away_team,away_goals))\n",
    "    return results"
   ]
  },
  {
   "cell_type": "code",
   "execution_count": null,
   "id": "1834fefc",
   "metadata": {},
   "outputs": [],
   "source": [
    "start_date, end_date = '2021-06-11', '2021-07-11'\n",
    "urls = gen_urls(start_date, end_date)\n",
    "results = all_results(urls)"
   ]
  }
 ],
 "metadata": {
  "kernelspec": {
   "display_name": "venvkernel",
   "language": "python",
   "name": "venvkernel"
  },
  "language_info": {
   "codemirror_mode": {
    "name": "ipython",
    "version": 3
   },
   "file_extension": ".py",
   "mimetype": "text/x-python",
   "name": "python",
   "nbconvert_exporter": "python",
   "pygments_lexer": "ipython3",
   "version": "3.10.4"
  }
 },
 "nbformat": 4,
 "nbformat_minor": 5
}
