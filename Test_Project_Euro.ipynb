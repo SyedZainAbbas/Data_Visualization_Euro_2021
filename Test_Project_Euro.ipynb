{
 "cells": [
  {
   "cell_type": "code",
   "execution_count": null,
   "id": "96dd86d9",
   "metadata": {},
   "outputs": [],
   "source": [
    "import pytest\n",
    "import ipytest\n",
    "import import_ipynb\n",
    "import Euro_2020 as e\n",
    "from Euro_2020_OOP import result_class, parse_team_stats, Results, TeamStats"
   ]
  },
  {
   "cell_type": "markdown",
   "id": "53173f60",
   "metadata": {},
   "source": [
    "## Tests for Notebook"
   ]
  },
  {
   "cell_type": "code",
   "execution_count": null,
   "id": "47c6c699",
   "metadata": {},
   "outputs": [],
   "source": [
    "def test_gen_url():\n",
    "    \"\"\"\n",
    "    Checks that all the urls are genreated as per our expectations.\n",
    "    \"\"\"\n",
    "    start_date, end_date = '2021-06-11', '2021-06-12'\n",
    "    expected_list = ['https://www.bbc.com/sport/football/european-championship/scores-fixtures/2021-06-11',\n",
    "                    'https://www.bbc.com/sport/football/european-championship/scores-fixtures/2021-06-12']\n",
    "    assert expected_list == e.gen_urls(start_date, end_date)\n",
    "    \n",
    "def test_show_match_result_wop():\n",
    "    \"\"\"\n",
    "    Checks that the desired information is extracted from the webpage. This test is for the non-penalty\n",
    "    games.\n",
    "    \"\"\"\n",
    "    url = ['https://www.bbc.com/sport/football/european-championship/scores-fixtures/2021-06-11']\n",
    "    expected_list = ['Turkey 0 - 3 Italy']\n",
    "    assert expected_list == e.all_results(url)                     \n",
    "\n",
    "def test_show_match_result_wp():\n",
    "    \"\"\"\n",
    "    This test is similar to the previous test however, it checks the functionality of the functionality \n",
    "    of the function when a game was decided on penalties\n",
    "    \"\"\"\n",
    "    url = ['https://www.bbc.com/sport/football/european-championship/scores-fixtures/2021-07-11']\n",
    "    expected_list = ['Italy 1 - 1 England (Italy win 3-2 on penalties)']\n",
    "    assert expected_list == e.all_results(url)           "
   ]
  },
  {
   "cell_type": "markdown",
   "id": "194382bd",
   "metadata": {},
   "source": [
    "## Tests for OOP Notebook"
   ]
  },
  {
   "cell_type": "code",
   "execution_count": null,
   "id": "217a81af",
   "metadata": {},
   "outputs": [],
   "source": [
    "def test_result_class_wop(): \n",
    "    \"\"\"\n",
    "    Checks whether the function result_class is parsing html correctly and allocating \n",
    "    the attributes of the Results (class) properly. This test only deals with the non-penalty \n",
    "    games.\n",
    "    \"\"\"\n",
    "    url = ['https://www.bbc.com/sport/football/european-championship/scores-fixtures/2021-06-11']\n",
    "    expected_list = [Results(home_team='Turkey', away_team='Italy',\n",
    "                    home_goals=0, away_goals=3, pen_winner=None, pen_score=None)]\n",
    "    assert expected_list == result_class(url)  \n",
    "\n",
    "def test_result_class_wop(): \n",
    "    \"\"\"\n",
    "   This is similar to the previous test however, it is designed for the games that went to penalty \n",
    "   shootouts\n",
    "   \"\"\"\n",
    "    url = ['https://www.bbc.com/sport/football/european-championship/scores-fixtures/2021-07-11']\n",
    "    expected_list = [Results(home_team='Italy', away_team='England', home_goals=1,\n",
    "                    away_goals=1, pen_winner='Italy', pen_score='3-2')]\n",
    "    assert expected_list == result_class(url)\n",
    "    "
   ]
  },
  {
   "cell_type": "code",
   "execution_count": null,
   "id": "dfb71cba",
   "metadata": {},
   "outputs": [],
   "source": [
    "def test_team_stats_home():\n",
    "    \"\"\"\n",
    "    Checks that the team_stat class properly updates the counts of the following attributes;\n",
    "    matches won, lost and drawn by a team, no. of goals scored and conceded by a team, and the \n",
    "    number of times a team played a games that was decided on penalty kicks. \n",
    "    \"\"\"\n",
    "    result = [\n",
    "        Results(home_team='Team A', away_team='Team B', home_goals=3, away_goals=0,\n",
    "        pen_winner=None, pen_score=None),\n",
    "        Results(home_team='Team A', away_team='Team B', home_goals=1, away_goals=1,\n",
    "        pen_winner='Team A', pen_score='3-2'),\n",
    "        Results(home_team='Team A', away_team='Team B', home_goals=2, away_goals=2,\n",
    "        pen_winner=None, pen_score=None),\n",
    "        Results(home_team='Team A', away_team='Team B', home_goals=2, away_goals=3,\n",
    "        pen_winner=None, pen_score=None),\n",
    "        Results(home_team='Team A', away_team='Team B', home_goals=4, away_goals=0,\n",
    "        pen_winner=None, pen_score=None),\n",
    "        Results(home_team='Team A', away_team='Team B', home_goals=3, away_goals=3,\n",
    "        pen_winner='Team B', pen_score='2-4')\n",
    "    ]\n",
    "    \n",
    "    expected_list = [\n",
    "        TeamStats(name='Team A', games_played=6, games_won=3, games_lost=2, games_drawn=1,\n",
    "        goals_for=15, goals_against=9, pen_games=2),\n",
    "        TeamStats(name='Team B', games_played=6, games_won=2, games_lost=3, games_drawn=1,\n",
    "        goals_for=9, goals_against=15, pen_games=2)\n",
    "  ]\n",
    "    obtained_list = parse_team_stats(result)\n",
    "    if expected_list[0].name == obtained_list[0].name:\n",
    "        assert expected_list == obtained_list\n",
    "    else:\n",
    "        assert expected_list == obtained_list[::-1]\n",
    "\n"
   ]
  },
  {
   "cell_type": "code",
   "execution_count": null,
   "id": "f3e48172",
   "metadata": {},
   "outputs": [],
   "source": [
    "ipytest.run()"
   ]
  }
 ],
 "metadata": {
  "kernelspec": {
   "display_name": "venvkernel",
   "language": "python",
   "name": "venvkernel"
  },
  "language_info": {
   "codemirror_mode": {
    "name": "ipython",
    "version": 3
   },
   "file_extension": ".py",
   "mimetype": "text/x-python",
   "name": "python",
   "nbconvert_exporter": "python",
   "pygments_lexer": "ipython3",
   "version": "3.10.4"
  }
 },
 "nbformat": 4,
 "nbformat_minor": 5
}
