{
 "cells": [
  {
   "cell_type": "code",
   "execution_count": null,
   "id": "a3fd3f22",
   "metadata": {},
   "outputs": [],
   "source": [
    "import requests\n",
    "from bs4 import BeautifulSoup as bs\n",
    "import pandas as pd\n",
    "import matplotlib.pyplot as plt\n",
    "import numpy as np"
   ]
  },
  {
   "cell_type": "code",
   "execution_count": null,
   "id": "8b27dbc7",
   "metadata": {},
   "outputs": [],
   "source": [
    "base_url = 'https://www.bbc.com/sport/football/european-championship/top-scorers'\n",
    "urls = [base_url, base_url+'/assists']\n",
    "dfs=[]\n",
    "for url in urls:\n",
    "    r = requests.get(url)\n",
    "    soup = bs(r.text)\n",
    "    header = soup.find('tr').find_all('th')\n",
    "    players = soup.find('tbody').find_all('tr')\n",
    "    \n",
    "    def columns(tags):\n",
    "        column = []\n",
    "        for tag in tags: \n",
    "            if tag.find('span', class_='gs-u-vh'):\n",
    "                column.append(tag.find('span', class_='gs-u-vh').text)\n",
    "            else: column.append(tag.text)\n",
    "        return column\n",
    "\n",
    "    def body(tags):\n",
    "        players_list = [] \n",
    "        for player in tags:\n",
    "            ind_player = player.find_all('td')\n",
    "            player_stats = [\n",
    "                i.select_one('.sp-c-top-scorers__player-name').select_one('.gs-u-vh').text\n",
    "                if i.select_one('.sp-c-top-scorers__player-name')\n",
    "                else i.text for i in ind_player\n",
    "            ]\n",
    "            players_list.append(player_stats)\n",
    "        return players_list\n",
    "    \n",
    "    dfs.append(pd.DataFrame(body(players), columns = columns(header)))"
   ]
  },
  {
   "cell_type": "code",
   "execution_count": null,
   "id": "63b81858",
   "metadata": {},
   "outputs": [],
   "source": [
    "df_g = dfs[0]   # Data Frame of Goal Scorers\n",
    "df_g"
   ]
  },
  {
   "cell_type": "code",
   "execution_count": null,
   "id": "13276413",
   "metadata": {},
   "outputs": [],
   "source": [
    "font_title = {'family': 'Comic Sans MS', 'color':'#030300', 'size': 22, 'weight': 'bold'}\n",
    "font_legend = {'family': 'Comic Sans MS', 'color':'#030300', 'size': 14, 'weight': 'bold'}\n",
    "font_axes = {'family': 'Comic Sans MS', 'color':'#131312', 'size': 14}\n",
    "\n",
    "df_tg = df_g[df_g['Goals']>='3'] # Players with 3 or more goals\n",
    "df_tg = df_tg.astype({'Name': str,'Played': int, 'Goals': int, 'Goals per 90': float})\n",
    "\n",
    "\n",
    "def bar_chart(labels, values, title = None, theme = 'ggplot'):\n",
    "    plt.style.use(theme)\n",
    "    plt.figure(figsize=(12,6))\n",
    "    plt.barh(labels, values, align ='center')\n",
    "    plt.yticks(fontsize = 14, weight = 'bold')\n",
    "    plt.gca().invert_yaxis()\n",
    "    plt.title(title, fontdict = font_title)\n",
    "    plt.grid()\n",
    "    plt.show()\n",
    "\n",
    "bar_chart(df_tg['Name'],df_tg['Goals'],title = 'Number of Goals by Players in UEFA Euro 2020')\n"
   ]
  },
  {
   "cell_type": "code",
   "execution_count": null,
   "id": "a0d27818",
   "metadata": {},
   "outputs": [],
   "source": [
    "# Grouped Bar Chart \n",
    "plt.figure(figsize=(12,8))\n",
    "df_tf = df_tg.iloc[:5,:] # top five players\n",
    "labels = ['Games Played','Goals Scored', \"Goals per 90'\"]\n",
    "players, played, goals, gp9 = df_tf['Name'], df_tf['Played'], df_tf['Goals'], df_tf['Goals per 90']\n",
    "x = np.arange(len(played))\n",
    "tick_pos = x\n",
    "plt.style.use('ggplot')\n",
    "w = 0.2\n",
    "for i in [played, goals, gp9]:\n",
    "    plt.bar(x,i, width = w)\n",
    "    x = x + w\n",
    "plt.legend(labels, loc = 0, fontsize = 14)\n",
    "plt.title('Stats of top 5 Goal Scorers in UEFA Euro 2020', fontdict = font_title)\n",
    "plt.xticks(tick_pos+(w+(w/4)),players,fontsize = 14, weight = 'bold')\n",
    "plt.show()\n"
   ]
  },
  {
   "cell_type": "markdown",
   "id": "fb55ec6b",
   "metadata": {},
   "source": [
    "## Assist Providers"
   ]
  },
  {
   "cell_type": "code",
   "execution_count": null,
   "id": "2dc65a7c",
   "metadata": {},
   "outputs": [],
   "source": [
    "df_a = dfs[1] \n",
    "df_a.loc[3,'Name'] = 'P.E.Højbjerg'"
   ]
  },
  {
   "cell_type": "code",
   "execution_count": null,
   "id": "8b8183d3",
   "metadata": {},
   "outputs": [],
   "source": [
    "df_ta = df_a[df_a['Assists']>='1'] # PLayers with 2 or more assists\n",
    "df_ta = df_ta.astype({'Name': str,'Played': int, 'Assists': int, 'Chances Created': int})\n",
    "df_tc = df_ta.sort_values(by=['Chances Created'], ascending = False)"
   ]
  },
  {
   "cell_type": "code",
   "execution_count": null,
   "id": "fca8be50",
   "metadata": {},
   "outputs": [],
   "source": [
    "bar_chart(df_ta['Name'],df_ta['Assists'],title = 'Number of Assists by Players in UEFA Euro 2020')"
   ]
  },
  {
   "cell_type": "code",
   "execution_count": null,
   "id": "b2bfbf3c",
   "metadata": {},
   "outputs": [],
   "source": [
    "plt.figure(figsize=(12,8))\n",
    "df_ta = df_ta.iloc[:5,:] # top five players based on chances created\n",
    "labels = ['Games Played','Assists Provided', 'Chances Created']\n",
    "players, played, goals, gp9 = df_ta['Name'], df_ta['Played'], df_ta['Assists'], df_ta['Chances Created']\n",
    "x = np.arange(len(played))\n",
    "tick_pos = x\n",
    "plt.style.use('seaborn')\n",
    "w = 0.2\n",
    "for i in [played, goals, gp9]:\n",
    "    plt.bar(x,i, width = w)\n",
    "    x = x + w\n",
    "plt.legend(labels, loc = 0, fontsize = 14)\n",
    "plt.title('Stats of top 5 Assists Providers in UEFA Euro 2020', fontdict = font_title)\n",
    "plt.xticks(tick_pos+(w+(w/4)),players,fontsize = 14, weight = 'bold')\n",
    "plt.show()"
   ]
  },
  {
   "cell_type": "code",
   "execution_count": null,
   "id": "0a62eb24",
   "metadata": {},
   "outputs": [],
   "source": [
    "bar_chart(df_tc['Name'],df_tc['Chances Created'],\n",
    "          title = 'Number of Chances Created by Players in UEFA Euro 2020', theme = 'seaborn')"
   ]
  }
 ],
 "metadata": {
  "kernelspec": {
   "display_name": "venvkernel",
   "language": "python",
   "name": "venvkernel"
  },
  "language_info": {
   "codemirror_mode": {
    "name": "ipython",
    "version": 3
   },
   "file_extension": ".py",
   "mimetype": "text/x-python",
   "name": "python",
   "nbconvert_exporter": "python",
   "pygments_lexer": "ipython3",
   "version": "3.10.4"
  }
 },
 "nbformat": 4,
 "nbformat_minor": 5
}
